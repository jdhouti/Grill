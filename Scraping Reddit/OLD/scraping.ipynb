{
 "cells": [
  {
   "cell_type": "code",
   "execution_count": 26,
   "metadata": {
    "collapsed": true
   },
   "outputs": [],
   "source": [
    "import pandas as pd\n",
    "import praw\n",
    "#from praw.models import MoreComments\n",
    "\n",
    "reddit = praw.Reddit(client_id='2CSFsNJZroWiiw',\n",
    "                     client_secret='d3f9vEFoqyzxrlOFYtomn74KlR4',\n",
    "                     user_agent='Machine Learning Project for Hackathon',)"
   ]
  },
  {
   "cell_type": "code",
   "execution_count": 28,
   "metadata": {
    "collapsed": false
   },
   "outputs": [
    {
     "name": "stdout",
     "output_type": "stream",
     "text": [
      "Post ID: 5nkbyc\n",
      "Post ID: 5dke49\n",
      "Post ID: 5zs3sn\n",
      "Post ID: 4wh245\n",
      "Post ID: 4u9btj\n",
      "Empty DataFrame\n",
      "Columns: []\n",
      "Index: []\n"
     ]
    }
   ],
   "source": [
    "sub = reddit.subreddit('RoastMe')\n",
    "posts_\n",
    "for submission in sub.top(limit=5):\n",
    "    print(\"Post ID: \" + submission.id)\n",
    "    submission.comments.replace_more(limit=0)\n",
    "    for top_level_comment in submission.comments:\n",
    "        \n",
    "print(df)"
   ]
  },
  {
   "cell_type": "markdown",
   "metadata": {
    "collapsed": true
   },
   "source": [
    "## Format: comments.csv; each line different comment; (post_id,comment_points,comment_body)\n",
    "##\t   titles.csv; each line different post; (post id, title, picture_link)"
   ]
  },
  {
   "cell_type": "code",
   "execution_count": null,
   "metadata": {},
   "outputs": [],
   "source": [
    ""
   ]
  }
 ],
 "metadata": {
  "kernelspec": {
   "display_name": "Python 3",
   "language": "python",
   "name": "python3"
  },
  "language_info": {
   "codemirror_mode": {
    "name": "ipython",
    "version": 3.0
   },
   "file_extension": ".py",
   "mimetype": "text/x-python",
   "name": "python",
   "nbconvert_exporter": "python",
   "pygments_lexer": "ipython3",
   "version": "3.6.0"
  }
 },
 "nbformat": 4,
 "nbformat_minor": 0
}