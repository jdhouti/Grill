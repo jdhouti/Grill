{
 "cells": [
  {
   "cell_type": "code",
   "execution_count": 1,
   "metadata": {
    "collapsed": true
   },
   "outputs": [],
   "source": [
    "import pandas as pd\n",
    "import praw\n",
    "#from praw.models import MoreComments\n",
    "\n",
    "reddit = praw.Reddit(client_id='2CSFsNJZroWiiw',\n",
    "                     client_secret='d3f9vEFoqyzxrlOFYtomn74KlR4',\n",
    "                     user_agent='Machine Learning Project for Hackathon')"
   ]
  },
  {
   "cell_type": "code",
   "execution_count": 2,
   "metadata": {
    "collapsed": false
   },
   "outputs": [
    {
     "name": "stdout",
     "output_type": "stream",
     "text": [
      "5nkbyc\n",
      "Post ID: 5nkbyc\n",
      "5dke49\n",
      "Post ID: 5dke49\n",
      "5zs3sn\n",
      "Post ID: 5zs3sn\n",
      "4wh245\n",
      "Post ID: 4wh245\n",
      "4u9btj\n",
      "Post ID: 4u9btj\n",
      "4xkxoi\n",
      "Post ID: 4xkxoi\n",
      "5j439u\n",
      "Post ID: 5j439u\n",
      "4bzeau\n",
      "Post ID: 4bzeau\n",
      "3hbv98\n",
      "Post ID: 3hbv98\n",
      "3hpnvb\n",
      "Post ID: 3hpnvb\n",
      "3h03sd\n",
      "Post ID: 3h03sd\n",
      "3ms49h\n",
      "Post ID: 3ms49h\n",
      "3s1u32\n",
      "Post ID: 3s1u32\n",
      "57un8c\n",
      "Post ID: 57un8c\n",
      "4sbxhc\n",
      "Post ID: 4sbxhc\n",
      "5pcmwe\n",
      "Post ID: 5pcmwe\n",
      "3qlzgt\n",
      "Post ID: 3qlzgt\n",
      "57p4un\n",
      "Post ID: 57p4un\n",
      "4yvm8s\n",
      "Post ID: 4yvm8s\n",
      "40u042\n",
      "Post ID: 40u042\n",
      "DONE\n"
     ]
    }
   ],
   "source": [
    "sub = reddit.subreddit('RoastMe')\n",
    "comments = open('comments.csv','w')\n",
    "count = 1\n",
    "for submission in sub.top(limit=999):\n",
    "    try:\n",
    "        print(str(submission))\n",
    "        submission.comment_sort = 'top'\n",
    "        print(\"Post ID: \" + submission.id)\n",
    "        submission.comments.replace_more(limit=0)\n",
    "        submission.comments.replace_more(threshold=0)\n",
    "        for top_level_comment in submission.comments.list():\n",
    "            try:\n",
    "                comment = top_level_comment.body\n",
    "                comment = str.join(' ', comment.splitlines())\n",
    "                csvline = submission.id + ',\"' + submission.title + '\",' + submission.url + ',\"' + str(top_level_comment.score) + ',' + comment + '\"\\n'\n",
    "                comments.write(csvline)\n",
    "            except(UnicodeEncodeError):\n",
    "                pass\n",
    "        print('On Submission: ' + str(count) + '/999')\n",
    "    except:\n",
    "        print('Error on submission_id: ' + str(submission))\n",
    "    count += 1\n",
    "print('DONE')"
   ]
  },
  {
   "cell_type": "code",
   "execution_count": null,
   "metadata": {
    "collapsed": true
   },
   "outputs": [],
   "source": []
  }
 ],
 "metadata": {
  "kernelspec": {
   "display_name": "Python 3",
   "language": "python",
   "name": "python3"
  },
  "language_info": {
   "codemirror_mode": {
    "name": "ipython",
    "version": 3
   },
   "file_extension": ".py",
   "mimetype": "text/x-python",
   "name": "python",
   "nbconvert_exporter": "python",
   "pygments_lexer": "ipython3",
   "version": "3.6.0"
  }
 },
 "nbformat": 4,
 "nbformat_minor": 2
}
