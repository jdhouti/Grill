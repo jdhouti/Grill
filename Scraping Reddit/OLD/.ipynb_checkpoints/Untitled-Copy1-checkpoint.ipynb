{
 "cells": [
  {
   "cell_type": "code",
   "execution_count": 5,
   "metadata": {
    "collapsed": true
   },
   "outputs": [],
   "source": [
    "import csv\n",
    "import pandas as pd"
   ]
  },
  {
   "cell_type": "code",
   "execution_count": 25,
   "metadata": {
    "collapsed": false
   },
   "outputs": [],
   "source": [
    "f = open('comments.csv','r')\n",
    "p = open('comcorrect.csv','w')\n",
    "for i in f:\n",
    "    l = \n",
    "    string = l[4]\n",
    "    score = string.partition(',')[0]\n",
    "    comm = string.partition(',')[2]\n",
    "    corlist = i[0] + i[1] + i[2] + i[3] + score + string\n",
    "    p.write(corlist)\n"
   ]
  },
  {
   "cell_type": "code",
   "execution_count": 23,
   "metadata": {
    "collapsed": false
   },
   "outputs": [],
   "source": [
    "ff = pd.read_csv('comtest.csv')\n",
    "string = \"1,You are required to make a video,,, on YouTube in regards to this r/RoastMe post commenting on the comments with Hila. Or else we will be forced to remove this post and ban you from our sub. ^^^not ^^^really ^^^but ^^^pls\""
   ]
  },
  {
   "cell_type": "code",
   "execution_count": 24,
   "metadata": {
    "collapsed": false
   },
   "outputs": [
    {
     "name": "stdout",
     "output_type": "stream",
     "text": [
      "1\n",
      "You are required to make a video,,, on YouTube in regards to this r/RoastMe post commenting on the comments with Hila. Or else we will be forced to remove this post and ban you from our sub. ^^^not ^^^really ^^^but ^^^pls\n"
     ]
    }
   ],
   "source": [
    "print(string.partition(',')[0])\n",
    "print(string.partition(',')[2])"
   ]
  },
  {
   "cell_type": "code",
   "execution_count": 11,
   "metadata": {
    "collapsed": false
   },
   "outputs": [
    {
     "data": {
      "text/html": [
       "<div>\n",
       "<table border=\"1\" class=\"dataframe\">\n",
       "  <thead>\n",
       "    <tr style=\"text-align: right;\">\n",
       "      <th></th>\n",
       "      <th>5nkbyc</th>\n",
       "      <th>We are h3h3productions, professional complainers and YouTube drama queens. Please roast us, appreciate ya.</th>\n",
       "      <th>https://i.redd.it/78ckh6a43b9y.jpg</th>\n",
       "      <th>1,You are required to make a video on YouTube in regards to this r/RoastMe post commenting on the comments with Hila. Or else we will be forced to remove this post and ban you from our sub. ^^^not ^^^really ^^^but ^^^pls</th>\n",
       "    </tr>\n",
       "  </thead>\n",
       "  <tbody>\n",
       "  </tbody>\n",
       "</table>\n",
       "</div>"
      ],
      "text/plain": [
       "Empty DataFrame\n",
       "Columns: [5nkbyc, We are h3h3productions, professional complainers and YouTube drama queens. Please roast us, appreciate ya., https://i.redd.it/78ckh6a43b9y.jpg, 1,You are required to make a video on YouTube in regards to this r/RoastMe post commenting on the comments with Hila. Or else we will be forced to remove this post and ban you from our sub. ^^^not ^^^really ^^^but ^^^pls]\n",
       "Index: []"
      ]
     },
     "execution_count": 11,
     "metadata": {},
     "output_type": "execute_result"
    }
   ],
   "source": [
    "df.head()"
   ]
  },
  {
   "cell_type": "code",
   "execution_count": null,
   "metadata": {
    "collapsed": true
   },
   "outputs": [],
   "source": []
  }
 ],
 "metadata": {
  "kernelspec": {
   "display_name": "Python 3",
   "language": "python",
   "name": "python3"
  },
  "language_info": {
   "codemirror_mode": {
    "name": "ipython",
    "version": 3
   },
   "file_extension": ".py",
   "mimetype": "text/x-python",
   "name": "python",
   "nbconvert_exporter": "python",
   "pygments_lexer": "ipython3",
   "version": "3.6.0"
  }
 },
 "nbformat": 4,
 "nbformat_minor": 2
}
