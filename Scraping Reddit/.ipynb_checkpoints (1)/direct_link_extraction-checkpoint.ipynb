{
 "cells": [
  {
   "cell_type": "code",
   "execution_count": 23,
   "metadata": {
    "collapsed": false
   },
   "outputs": [
    {
     "data": {
      "application/javascript": [
       "IPython.notebook.set_autosave_interval(10000)"
      ]
     },
     "metadata": {},
     "output_type": "display_data"
    },
    {
     "name": "stdout",
     "output_type": "stream",
     "text": [
      "Autosaving every 10 seconds\n"
     ]
    }
   ],
   "source": [
    "%autosave 10\n",
    "import urllib.request\n",
    "import pandas as pd"
   ]
  },
  {
   "cell_type": "code",
   "execution_count": 3,
   "metadata": {
    "collapsed": false
   },
   "outputs": [
    {
     "data": {
      "text/plain": [
       "('photos/xxbfa', <http.client.HTTPMessage at 0x2b8bfb27b70>)"
      ]
     },
     "execution_count": 3,
     "metadata": {},
     "output_type": "execute_result"
    }
   ],
   "source": [
    "sub_id = 'xxbfa'\n",
    "save_location = 'photos/' + sub_id  \n",
    "urllib.request.urlretrieve(\"https://i.reddituploads.com/ef49224ca22c4bcca85be80eae502188?fit=max&h=1536&w=1536&s=64003f767f725e724ad8646c1718e3ab\", save_location)"
   ]
  },
  {
   "cell_type": "code",
   "execution_count": 150,
   "metadata": {
    "collapsed": true
   },
   "outputs": [],
   "source": [
    "file = pd.read_csv('linkfile_modified.csv',delimiter='|')\n",
    "df = pd.DataFrame(file)"
   ]
  },
  {
   "cell_type": "code",
   "execution_count": 151,
   "metadata": {
    "collapsed": false
   },
   "outputs": [
    {
     "data": {
      "text/plain": [
       "Index(['sub_id', 'img_link'], dtype='object')"
      ]
     },
     "execution_count": 151,
     "metadata": {},
     "output_type": "execute_result"
    }
   ],
   "source": [
    "df.columns"
   ]
  },
  {
   "cell_type": "code",
   "execution_count": 184,
   "metadata": {
    "collapsed": true
   },
   "outputs": [],
   "source": [
    "from imgurpython import ImgurClient\n",
    "from imgurpython.client import ImgurClientError\n",
    "\n",
    "client_id = '8fd023373499a6d'\n",
    "client_secret = '8a98289a8b2edf1a654de6bfc846237450c643b2'\n",
    "\n",
    "client = ImgurClient(client_id, client_secret)"
   ]
  },
  {
   "cell_type": "code",
   "execution_count": 189,
   "metadata": {
    "collapsed": false
   },
   "outputs": [],
   "source": [
    "def directimgur(link):\n",
    "    try:\n",
    "        directlink = ''\n",
    "        #album_id = link.rsplit('/', 1)[1]\n",
    "        #images = client.get_album_images(album_id)\n",
    "        #directlink = 'http://i.imgur.com/' + images[0].id + '.jpg'\n",
    "        if '/a/' in link:\n",
    "            album_id = link.rsplit('/', 1)[1]\n",
    "            images = client.get_album_images(album_id)\n",
    "            directlink = 'http://i.imgur.com/' + images[0].id + '.jpg'\n",
    "        elif 'gallery' in link:\n",
    "            link = \"http://imgur.com/gallery/ZvysF\"\n",
    "            album_id = link.rsplit('/', 1)[1]\n",
    "            images = client.get_album_images(album_id)\n",
    "            directlink = 'http://i.imgur.com/' + images[0].id + '.jpg'\n",
    "        else:\n",
    "            directlink = link + '.jpg'\n",
    "    except:\n",
    "        print(link)\n",
    "    \n",
    "    return directlink"
   ]
  },
  {
   "cell_type": "code",
   "execution_count": 190,
   "metadata": {
    "collapsed": false
   },
   "outputs": [
    {
     "name": "stdout",
     "output_type": "stream",
     "text": [
      "http://imgur.com/a/FwEkl\n",
      "http://imgur.com/a/vVWke\n",
      "http://imgur.com/a/4xtAw\n",
      "http://imgur.com/a/WUnbb\n"
     ]
    }
   ],
   "source": [
    "directlink_csv = open('directlink.csv','w')\n",
    "for i in range(0,len(df['img_link'])):\n",
    "    if '.jpg' in df['img_link'][i]:\n",
    "        directlink_csv.write(df['sub_id'][i] + '|' + df['img_link'][i] + '\\n')\n",
    "    elif 'i.reddituploads' in df['img_link'][i]:\n",
    "        directlink_csv.write(df['sub_id'][i] + '|' + df['img_link'][i] + '\\n')\n",
    "    elif '.png' in df['img_link'][i]:\n",
    "        directlink_csv.write(df['sub_id'][i] + '|' + df['img_link'][i] + '\\n')\n",
    "    #elif '/a/' in df['img_link'][i]:\n",
    "        #directimgur(df['img_link'][i])\n",
    "    elif 'imgur' in df['img_link'][i]:\n",
    "        directlink = directimgur(df['img_link'][i])\n",
    "        directlink_csv.write(df['sub_id'][i] + '|' + directlink + '\\n')\n",
    "    else:\n",
    "        #print(link)\n",
    "        directlink_csv.write(df['sub_id'][i] + '|' + '' + '\\n')"
   ]
  }
 ],
 "metadata": {
  "kernelspec": {
   "display_name": "Python 3",
   "language": "python",
   "name": "python3"
  },
  "language_info": {
   "codemirror_mode": {
    "name": "ipython",
    "version": 3
   },
   "file_extension": ".py",
   "mimetype": "text/x-python",
   "name": "python",
   "nbconvert_exporter": "python",
   "pygments_lexer": "ipython3",
   "version": "3.6.0"
  }
 },
 "nbformat": 4,
 "nbformat_minor": 2
}
