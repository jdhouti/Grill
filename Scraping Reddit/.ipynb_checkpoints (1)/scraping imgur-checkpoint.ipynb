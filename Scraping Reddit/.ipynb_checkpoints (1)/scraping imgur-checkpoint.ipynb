{
 "cells": [
  {
   "cell_type": "code",
   "execution_count": 73,
   "metadata": {
    "collapsed": false
   },
   "outputs": [
    {
     "name": "stdout",
     "output_type": "stream",
     "text": [
      "Populating the interactive namespace from numpy and matplotlib\n"
     ]
    }
   ],
   "source": [
    "%pylab inline\n",
    "from imgurpython import ImgurClient\n",
    "from PIL import Image\n",
    "import urllib.parse as urlparse\n",
    "import os\n",
    "import pandas as pd\n",
    "import csv\n",
    "\n",
    "client_id = '8fd023373499a6d'\n",
    "client_secret = '8a98289a8b2edf1a654de6bfc846237450c643b2'\n",
    "\n",
    "client = ImgurClient(client_id, client_secret)"
   ]
  },
  {
   "cell_type": "code",
   "execution_count": 74,
   "metadata": {
    "collapsed": false
   },
   "outputs": [
    {
     "data": {
      "text/html": [
       "<div>\n",
       "<table border=\"1\" class=\"dataframe\">\n",
       "  <thead>\n",
       "    <tr style=\"text-align: right;\">\n",
       "      <th></th>\n",
       "      <th>sub_id</th>\n",
       "      <th>sub_title</th>\n",
       "      <th>img_link</th>\n",
       "      <th>comment_score</th>\n",
       "      <th>comment_body</th>\n",
       "    </tr>\n",
       "  </thead>\n",
       "  <tbody>\n",
       "    <tr>\n",
       "      <th>0</th>\n",
       "      <td>5nkbyc</td>\n",
       "      <td>We are hhproductions professional complainers ...</td>\n",
       "      <td>https://i.redd.it/78ckh6a43b9y.jpg</td>\n",
       "      <td>1</td>\n",
       "      <td>You are required to make a video on YouTube in...</td>\n",
       "    </tr>\n",
       "    <tr>\n",
       "      <th>1</th>\n",
       "      <td>5nkbyc</td>\n",
       "      <td>We are hhproductions professional complainers ...</td>\n",
       "      <td>https://i.redd.it/78ckh6a43b9y.jpg</td>\n",
       "      <td>36500</td>\n",
       "      <td>Your relationship is stable because thats wher...</td>\n",
       "    </tr>\n",
       "    <tr>\n",
       "      <th>2</th>\n",
       "      <td>5nkbyc</td>\n",
       "      <td>We are hhproductions professional complainers ...</td>\n",
       "      <td>https://i.redd.it/78ckh6a43b9y.jpg</td>\n",
       "      <td>16306</td>\n",
       "      <td>I turn on adblock for your videos   Edit thank...</td>\n",
       "    </tr>\n",
       "    <tr>\n",
       "      <th>3</th>\n",
       "      <td>5nkbyc</td>\n",
       "      <td>We are hhproductions professional complainers ...</td>\n",
       "      <td>https://i.redd.it/78ckh6a43b9y.jpg</td>\n",
       "      <td>16154</td>\n",
       "      <td>I thought roasting a couple Jews went out of s...</td>\n",
       "    </tr>\n",
       "    <tr>\n",
       "      <th>4</th>\n",
       "      <td>5nkbyc</td>\n",
       "      <td>We are hhproductions professional complainers ...</td>\n",
       "      <td>https://i.redd.it/78ckh6a43b9y.jpg</td>\n",
       "      <td>13846</td>\n",
       "      <td>The only reason youre posting here is for a vi...</td>\n",
       "    </tr>\n",
       "  </tbody>\n",
       "</table>\n",
       "</div>"
      ],
      "text/plain": [
       "   sub_id                                          sub_title  \\\n",
       "0  5nkbyc  We are hhproductions professional complainers ...   \n",
       "1  5nkbyc  We are hhproductions professional complainers ...   \n",
       "2  5nkbyc  We are hhproductions professional complainers ...   \n",
       "3  5nkbyc  We are hhproductions professional complainers ...   \n",
       "4  5nkbyc  We are hhproductions professional complainers ...   \n",
       "\n",
       "                             img_link  comment_score  \\\n",
       "0  https://i.redd.it/78ckh6a43b9y.jpg              1   \n",
       "1  https://i.redd.it/78ckh6a43b9y.jpg          36500   \n",
       "2  https://i.redd.it/78ckh6a43b9y.jpg          16306   \n",
       "3  https://i.redd.it/78ckh6a43b9y.jpg          16154   \n",
       "4  https://i.redd.it/78ckh6a43b9y.jpg          13846   \n",
       "\n",
       "                                        comment_body  \n",
       "0  You are required to make a video on YouTube in...  \n",
       "1  Your relationship is stable because thats wher...  \n",
       "2  I turn on adblock for your videos   Edit thank...  \n",
       "3  I thought roasting a couple Jews went out of s...  \n",
       "4  The only reason youre posting here is for a vi...  "
      ]
     },
     "execution_count": 74,
     "metadata": {},
     "output_type": "execute_result"
    }
   ],
   "source": [
    "comments = pd.read_csv('comments_nopunc.csv',sep='|')\n",
    "\n",
    "df = pd.DataFrame(comments)\n",
    "del df['Unnamed: 5']\n",
    "df.head()"
   ]
  },
  {
   "cell_type": "code",
   "execution_count": 78,
   "metadata": {
    "collapsed": false
   },
   "outputs": [
    {
     "name": "stdout",
     "output_type": "stream",
     "text": [
      "http://i.imgur.com/gooPC.png\n",
      "http://i.imgur.com/gooPC.png\n",
      "http://i.imgur.com/gooPC.png\n",
      "http://i.imgur.com/gooPC.png\n",
      "http://i.imgur.com/gooPC.png\n"
     ]
    }
   ],
   "source": [
    "for link in five_links:\n",
    "    if 'imgur' in link:\n",
    "        if \"/a/\" not in link:\n",
    "            try:\n",
    "                link = link.replace('/','.')\n",
    "                link_list = link.split('.')\n",
    "                image_id = link_list[4]\n",
    "                image = client.get_image(image_id)\n",
    "            except Exception as a:\n",
    "                print('Exception occured at link: ' + a)\n",
    "        elif '/a/' in link:\n",
    "            try:\n",
    "                album = link.replace('/','.')\n",
    "                album_list = album.split('.')\n",
    "                album_id = album_list[5]\n",
    "                image = client.get_album_images('wRJyk')\n",
    "                print(image[0].link)\n",
    "            except Exception as a:\n",
    "                print('Exception occured at link: ' + a)\n",
    "        else:\n",
    "            print(\"Except--\" + link)\n",
    "    if 'i.redd.it' in link:        "
   ]
  }
 ],
 "metadata": {
  "kernelspec": {
   "display_name": "Python 3",
   "language": "python",
   "name": "python3"
  },
  "language_info": {
   "codemirror_mode": {
    "name": "ipython",
    "version": 3
   },
   "file_extension": ".py",
   "mimetype": "text/x-python",
   "name": "python",
   "nbconvert_exporter": "python",
   "pygments_lexer": "ipython3",
   "version": "3.6.0"
  }
 },
 "nbformat": 4,
 "nbformat_minor": 2
}
