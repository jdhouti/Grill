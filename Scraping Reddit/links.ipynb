{
 "cells": [
  {
   "cell_type": "code",
   "execution_count": 34,
   "metadata": {
    "collapsed": false
   },
   "outputs": [
    {
     "data": {
      "application/javascript": [
       "IPython.notebook.set_autosave_interval(10000)"
      ]
     },
     "metadata": {},
     "output_type": "display_data"
    },
    {
     "name": "stdout",
     "output_type": "stream",
     "text": [
      "Autosaving every 10 seconds\n"
     ]
    }
   ],
   "source": [
    "%autosave 10"
   ]
  },
  {
   "cell_type": "code",
   "execution_count": 2,
   "metadata": {
    "collapsed": false
   },
   "outputs": [
    {
     "data": {
      "text/html": [
       "<div>\n",
       "<table border=\"1\" class=\"dataframe\">\n",
       "  <thead>\n",
       "    <tr style=\"text-align: right;\">\n",
       "      <th></th>\n",
       "      <th>sub_id</th>\n",
       "      <th>sub_title</th>\n",
       "      <th>img_link</th>\n",
       "      <th>comment_score</th>\n",
       "      <th>comment_body</th>\n",
       "    </tr>\n",
       "  </thead>\n",
       "  <tbody>\n",
       "    <tr>\n",
       "      <th>0</th>\n",
       "      <td>5nkbyc</td>\n",
       "      <td>We are hhproductions professional complainers ...</td>\n",
       "      <td>https://i.redd.it/78ckh6a43b9y.jpg</td>\n",
       "      <td>1</td>\n",
       "      <td>You are required to make a video on YouTube in...</td>\n",
       "    </tr>\n",
       "    <tr>\n",
       "      <th>1</th>\n",
       "      <td>5nkbyc</td>\n",
       "      <td>We are hhproductions professional complainers ...</td>\n",
       "      <td>https://i.redd.it/78ckh6a43b9y.jpg</td>\n",
       "      <td>36500</td>\n",
       "      <td>Your relationship is stable because thats wher...</td>\n",
       "    </tr>\n",
       "    <tr>\n",
       "      <th>2</th>\n",
       "      <td>5nkbyc</td>\n",
       "      <td>We are hhproductions professional complainers ...</td>\n",
       "      <td>https://i.redd.it/78ckh6a43b9y.jpg</td>\n",
       "      <td>16306</td>\n",
       "      <td>I turn on adblock for your videos   Edit thank...</td>\n",
       "    </tr>\n",
       "    <tr>\n",
       "      <th>3</th>\n",
       "      <td>5nkbyc</td>\n",
       "      <td>We are hhproductions professional complainers ...</td>\n",
       "      <td>https://i.redd.it/78ckh6a43b9y.jpg</td>\n",
       "      <td>16154</td>\n",
       "      <td>I thought roasting a couple Jews went out of s...</td>\n",
       "    </tr>\n",
       "    <tr>\n",
       "      <th>4</th>\n",
       "      <td>5nkbyc</td>\n",
       "      <td>We are hhproductions professional complainers ...</td>\n",
       "      <td>https://i.redd.it/78ckh6a43b9y.jpg</td>\n",
       "      <td>13846</td>\n",
       "      <td>The only reason youre posting here is for a vi...</td>\n",
       "    </tr>\n",
       "  </tbody>\n",
       "</table>\n",
       "</div>"
      ],
      "text/plain": [
       "   sub_id                                          sub_title  \\\n",
       "0  5nkbyc  We are hhproductions professional complainers ...   \n",
       "1  5nkbyc  We are hhproductions professional complainers ...   \n",
       "2  5nkbyc  We are hhproductions professional complainers ...   \n",
       "3  5nkbyc  We are hhproductions professional complainers ...   \n",
       "4  5nkbyc  We are hhproductions professional complainers ...   \n",
       "\n",
       "                             img_link  comment_score  \\\n",
       "0  https://i.redd.it/78ckh6a43b9y.jpg              1   \n",
       "1  https://i.redd.it/78ckh6a43b9y.jpg          36500   \n",
       "2  https://i.redd.it/78ckh6a43b9y.jpg          16306   \n",
       "3  https://i.redd.it/78ckh6a43b9y.jpg          16154   \n",
       "4  https://i.redd.it/78ckh6a43b9y.jpg          13846   \n",
       "\n",
       "                                        comment_body  \n",
       "0  You are required to make a video on YouTube in...  \n",
       "1  Your relationship is stable because thats wher...  \n",
       "2  I turn on adblock for your videos   Edit thank...  \n",
       "3  I thought roasting a couple Jews went out of s...  \n",
       "4  The only reason youre posting here is for a vi...  "
      ]
     },
     "execution_count": 2,
     "metadata": {},
     "output_type": "execute_result"
    }
   ],
   "source": [
    "import pandas as pd\n",
    "comments = pd.read_csv('comments_nopunc.csv',sep='|')\n",
    "\n",
    "df = pd.DataFrame(comments)\n",
    "del df['Unnamed: 5']\n",
    "df.head()"
   ]
  },
  {
   "cell_type": "code",
   "execution_count": 33,
   "metadata": {
    "collapsed": false
   },
   "outputs": [
    {
     "name": "stdout",
     "output_type": "stream",
     "text": [
      "247258\n"
     ]
    }
   ],
   "source": [
    "print(len(df['img_link']))"
   ]
  },
  {
   "cell_type": "code",
   "execution_count": 32,
   "metadata": {
    "collapsed": false
   },
   "outputs": [],
   "source": [
    "link_file = open('linkfile.csv','w')\n",
    "try:\n",
    "    for i in range(0,len(df['img_link'])-1):\n",
    "        if df['img_link'][i] != df['img_link'][i+1]:\n",
    "                   #print(df['img_link'][i])\n",
    "                   link_file.write(df['sub_id'][i] + '|' + df['img_link'][i] + '\\n')\n",
    "except(KeyError):\n",
    "    print('Keyerror')"
   ]
  },
  {
   "cell_type": "code",
   "execution_count": 25,
   "metadata": {
    "collapsed": false,
    "scrolled": true
   },
   "outputs": [
    {
     "data": {
      "text/plain": [
       "0    https://i.redd.it/78ckh6a43b9y.jpg\n",
       "1    https://i.redd.it/78ckh6a43b9y.jpg\n",
       "2    https://i.redd.it/78ckh6a43b9y.jpg\n",
       "3    https://i.redd.it/78ckh6a43b9y.jpg\n",
       "4    https://i.redd.it/78ckh6a43b9y.jpg\n",
       "Name: img_link, dtype: object"
      ]
     },
     "execution_count": 25,
     "metadata": {},
     "output_type": "execute_result"
    }
   ],
   "source": [
    "linkdf = df['img_link']\n",
    "linkdf.head()"
   ]
  },
  {
   "cell_type": "code",
   "execution_count": 29,
   "metadata": {
    "collapsed": false
   },
   "outputs": [],
   "source": [
    "link_file = open('linkfile.csv','w') \n",
    "linkdf = linkdf.drop_duplicates()\n",
    "linkdf.head()\n",
    "for i in linkdf:\n",
    "        link_file.write(i + '\\n')"
   ]
  },
  {
   "cell_type": "code",
   "execution_count": null,
   "metadata": {
    "collapsed": true
   },
   "outputs": [],
   "source": []
  }
 ],
 "metadata": {
  "kernelspec": {
   "display_name": "Python 3",
   "language": "python",
   "name": "python3"
  },
  "language_info": {
   "codemirror_mode": {
    "name": "ipython",
    "version": 3
   },
   "file_extension": ".py",
   "mimetype": "text/x-python",
   "name": "python",
   "nbconvert_exporter": "python",
   "pygments_lexer": "ipython3",
   "version": "3.6.0"
  }
 },
 "nbformat": 4,
 "nbformat_minor": 2
}
