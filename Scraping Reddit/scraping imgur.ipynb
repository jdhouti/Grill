{
 "cells": [
  {
   "cell_type": "code",
   "execution_count": 73,
   "metadata": {
    "collapsed": false
   },
   "outputs": [
    {
     "name": "stdout",
     "output_type": "stream",
     "text": [
      "Populating the interactive namespace from numpy and matplotlib\n"
     ]
    }
   ],
   "source": [
    "%pylab inline\n",
    "from imgurpython import ImgurClient\n",
    "from PIL import Image\n",
    "import urllib.parse as urlparse\n",
    "import os\n",
    "import pandas as pd\n",
    "import csv\n",
    "\n",
    "client_id = '8fd023373499a6d'\n",
    "client_secret = '8a98289a8b2edf1a654de6bfc846237450c643b2'\n",
    "\n",
    "client = ImgurClient(client_id, client_secret)"
   ]
  },
  {
   "cell_type": "code",
   "execution_count": 3,
   "metadata": {
    "collapsed": false
   },
   "outputs": [
    {
     "ename": "NameError",
     "evalue": "name 'pd' is not defined",
     "output_type": "error",
     "traceback": [
      "\u001b[0;31m---------------------------------------------------------------------------\u001b[0m",
      "\u001b[0;31mNameError\u001b[0m                                 Traceback (most recent call last)",
      "\u001b[0;32m<ipython-input-3-30b3bf7e88e9>\u001b[0m in \u001b[0;36m<module>\u001b[0;34m()\u001b[0m\n\u001b[0;32m----> 1\u001b[0;31m \u001b[0mcomments\u001b[0m \u001b[1;33m=\u001b[0m \u001b[0mpd\u001b[0m\u001b[1;33m.\u001b[0m\u001b[0mread_csv\u001b[0m\u001b[1;33m(\u001b[0m\u001b[1;34m'comments_nopunc.csv'\u001b[0m\u001b[1;33m,\u001b[0m\u001b[0msep\u001b[0m\u001b[1;33m=\u001b[0m\u001b[1;34m'|'\u001b[0m\u001b[1;33m,\u001b[0m\u001b[0mheader\u001b[0m\u001b[1;33m=\u001b[0m\u001b[1;33m{\u001b[0m\u001b[1;33m[\u001b[0m\u001b[1;34m\"sub_id\"\u001b[0m\u001b[1;33m,\u001b[0m\u001b[1;34m\"sub_title\"\u001b[0m\u001b[1;33m,\u001b[0m\u001b[1;34m\"img_link\"\u001b[0m\u001b[1;33m,\u001b[0m\u001b[1;34m\"comment_score\"\u001b[0m\u001b[1;33m,\u001b[0m\u001b[1;34m\"comment_body\"\u001b[0m\u001b[1;33m]\u001b[0m\u001b[1;33m}\u001b[0m\u001b[1;33m)\u001b[0m\u001b[1;33m\u001b[0m\u001b[0m\n\u001b[0m\u001b[1;32m      2\u001b[0m \u001b[1;33m\u001b[0m\u001b[0m\n\u001b[1;32m      3\u001b[0m \u001b[0mdf\u001b[0m \u001b[1;33m=\u001b[0m \u001b[0mpd\u001b[0m\u001b[1;33m.\u001b[0m\u001b[0mDataFrame\u001b[0m\u001b[1;33m(\u001b[0m\u001b[0mcomments\u001b[0m\u001b[1;33m)\u001b[0m\u001b[1;33m\u001b[0m\u001b[0m\n\u001b[1;32m      4\u001b[0m \u001b[1;32mdel\u001b[0m \u001b[0mdf\u001b[0m\u001b[1;33m[\u001b[0m\u001b[1;34m'Unnamed: 5'\u001b[0m\u001b[1;33m]\u001b[0m\u001b[1;33m\u001b[0m\u001b[0m\n\u001b[1;32m      5\u001b[0m \u001b[0mdf\u001b[0m\u001b[1;33m.\u001b[0m\u001b[0mhead\u001b[0m\u001b[1;33m(\u001b[0m\u001b[1;33m)\u001b[0m\u001b[1;33m\u001b[0m\u001b[0m\n",
      "\u001b[0;31mNameError\u001b[0m: name 'pd' is not defined"
     ]
    }
   ],
   "source": [
    "comments = pd.read_csv('comments_nopunc.csv',sep='|',header={[\"sub_id\",\"sub_title\",\"img_link\",\"comment_score\",\"comment_body\"]})\n",
    "\n",
    "df = pd.DataFrame(comments)\n",
    "del df['Unnamed: 5']\n",
    "df.head()"
   ]
  },
  {
   "cell_type": "code",
   "execution_count": 78,
   "metadata": {
    "collapsed": false
   },
   "outputs": [
    {
     "name": "stdout",
     "output_type": "stream",
     "text": [
      "http://i.imgur.com/gooPC.png\n",
      "http://i.imgur.com/gooPC.png\n",
      "http://i.imgur.com/gooPC.png\n",
      "http://i.imgur.com/gooPC.png\n",
      "http://i.imgur.com/gooPC.png\n"
     ]
    }
   ],
   "source": [
    "for link in five_links:\n",
    "    if 'imgur' in link:\n",
    "        if \"/a/\" not in link:\n",
    "            try:\n",
    "                link = link.replace('/','.')\n",
    "                link_list = link.split('.')\n",
    "                image_id = link_list[4]\n",
    "                image = client.get_image(image_id)\n",
    "            except Exception as a:\n",
    "                print('Exception occured at link: ' + a)\n",
    "        elif '/a/' in link:\n",
    "            try:\n",
    "                album = link.replace('/','.')\n",
    "                album_list = album.split('.')\n",
    "                album_id = album_list[5]\n",
    "                image = client.get_album_images('wRJyk')\n",
    "                print(image[0].link)\n",
    "            except Exception as a:\n",
    "                print('Exception occured at link: ' + a)\n",
    "        else:\n",
    "            print(\"Except--\" + link)\n",
    "    if 'i.redd.it' in link:        "
   ]
  }
 ],
 "metadata": {
  "kernelspec": {
   "display_name": "Python 3",
   "language": "python",
   "name": "python3"
  },
  "language_info": {
   "codemirror_mode": {
    "name": "ipython",
    "version": 3
   },
   "file_extension": ".py",
   "mimetype": "text/x-python",
   "name": "python",
   "nbconvert_exporter": "python",
   "pygments_lexer": "ipython3",
   "version": "3.6.0"
  }
 },
 "nbformat": 4,
 "nbformat_minor": 2
}
