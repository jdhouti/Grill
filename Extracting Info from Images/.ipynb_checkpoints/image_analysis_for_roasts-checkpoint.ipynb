{
 "cells": [
  {
   "cell_type": "code",
   "execution_count": 68,
   "metadata": {
    "collapsed": false
   },
   "outputs": [],
   "source": [
    "import http.client, urllib.request, urllib.parse, urllib.error, base64\n",
    "import json, csv\n",
    "import codecs\n",
    "import ast \n",
    "import time"
   ]
  },
  {
   "cell_type": "code",
   "execution_count": 35,
   "metadata": {
    "collapsed": false
   },
   "outputs": [],
   "source": [
    "def analyze_photo(url):    # the url should be a string. NOT a byte\n",
    "    \"\"\"Collects all of the information that we want from a picture.\"\"\"\n",
    "    headers = {\n",
    "    # Request headers. Replace the key below with your subscription key.\n",
    "    'Content-Type': 'application/json',\n",
    "    'Ocp-Apim-Subscription-Key':'fd0b9f206a584fc5b5353ba4fbed6451',\n",
    "    }\n",
    "\n",
    "    params = urllib.parse.urlencode({\n",
    "    # Request parameters. All of them are optional.\n",
    "    'visualFeatures':'Categories, Faces, Tags, Description',\n",
    "    'language':'en',\n",
    "    })\n",
    "\n",
    "    # the website you want to analyze the photo from.\n",
    "    body = \"{'url':'\" + url + \"'}\"  # this will only work if url is a string. \n",
    "    \n",
    "    try:\n",
    "        conn = http.client.HTTPSConnection('westus.api.cognitive.microsoft.com')   # this only returns bytes. \n",
    "        conn.request(\"POST\", \"/vision/v1.0/analyze?%s\" % params, body, headers)\n",
    "        response = conn.getresponse()\n",
    "        data = response.read()      # this is in bytes. we want this as a string. see data_prep()\n",
    "        conn.close()\n",
    "        return(data.decode(\"utf-8\"))\n",
    "    except Exception as e:\n",
    "        print(\"[Errno {0}] {1}\".format(e.errno, e.strerror))"
   ]
  },
  {
   "cell_type": "code",
   "execution_count": 36,
   "metadata": {
    "collapsed": true
   },
   "outputs": [],
   "source": [
    "# def data_prep(data, file):\n",
    "#     \"\"\"Formats the data the way we can display it in a csv file. The data will be as string.\"\"\"\n",
    "#     print(data.decode(\"utf-8\"))\n",
    "#     csvfilem = open(file, 'r+')\n",
    "#     csvfilem.write(data.decode(\"utf-8\"))\n",
    "#     csvfilem.close()"
   ]
  },
  {
   "cell_type": "code",
   "execution_count": 36,
   "metadata": {
    "collapsed": false,
    "scrolled": true
   },
   "outputs": [
    {
     "name": "stdout",
     "output_type": "stream",
     "text": [
      "{\"categories\":[{\"name\":\"people_group\",\"score\":0.69921875}],\"tags\":[{\"name\":\"person\",\"confidence\":0.998964786529541},{\"name\":\"little\",\"confidence\":0.930846095085144},{\"name\":\"child\",\"confidence\":0.90884613990783691},{\"name\":\"young\",\"confidence\":0.9049915075302124},{\"name\":\"posing\",\"confidence\":0.90307599306106567},{\"name\":\"standing\",\"confidence\":0.82477486133575439}],\"description\":{\"tags\":[\"person\",\"little\",\"child\",\"young\",\"posing\",\"clothing\",\"standing\",\"girl\",\"small\",\"holding\",\"photo\",\"boy\",\"smiling\",\"man\",\"green\",\"white\",\"group\"],\"captions\":[{\"text\":\"a little girl that is posing for a picture\",\"confidence\":0.55946777903512035}]},\"requestId\":\"b5d210a4-f7b0-4d31-9d64-907285499c9b\",\"metadata\":{\"width\":1000,\"height\":927,\"format\":\"Jpeg\"},\"faces\":[{\"age\":1,\"gender\":\"Male\",\"faceRectangle\":{\"left\":232,\"top\":241,\"width\":152,\"height\":152}},{\"age\":4,\"gender\":\"Female\",\"faceRectangle\":{\"left\":402,\"top\":182,\"width\":136,\"height\":136}},{\"age\":4,\"gender\":\"Female\",\"faceRectangle\":{\"left\":551,\"top\":211,\"width\":127,\"height\":127}},{\"age\":4,\"gender\":\"Female\",\"faceRectangle\":{\"left\":703,\"top\":267,\"width\":123,\"height\":123}}]}\n"
     ]
    }
   ],
   "source": [
    "analysis = analyze_photo(\"http://dreamatico.com/data_images/children/children-7.jpg\")\n",
    "data_prep(analysis, 'extract_here.csv')"
   ]
  },
  {
   "cell_type": "code",
   "execution_count": 41,
   "metadata": {
    "collapsed": false
   },
   "outputs": [
    {
     "name": "stdout",
     "output_type": "stream",
     "text": [
      "{'age': 1, 'gender': 'Male', 'faceRectangle': {'left': 232, 'top': 241, 'width': 152, 'height': 152}}\n"
     ]
    }
   ],
   "source": [
    "n = ast.literal_eval(analyze_photo(\"http://dreamatico.com/data_images/children/children-7.jpg\").decode(\"utf-8\"))\n",
    "print(n['faces'][0])"
   ]
  },
  {
   "cell_type": "code",
   "execution_count": 1,
   "metadata": {
    "collapsed": false
   },
   "outputs": [],
   "source": [
    "# def remove_duplicates(string):\n",
    "#     data_dict = ast.literal_eval(string)\n",
    "#     counter = 0\n",
    "    \n",
    "#     if len(data_dict['faces']) > 1:\n",
    "#         print(\"This is working.\")\n",
    "        \n",
    "# remove_duplicates()"
   ]
  },
  {
   "cell_type": "code",
   "execution_count": 123,
   "metadata": {
    "collapsed": false
   },
   "outputs": [
    {
     "name": "stdout",
     "output_type": "stream",
     "text": [
      "<class 'str'>\n"
     ]
    }
   ],
   "source": [
    "import pandas as pd\n",
    "import numpy as np\n",
    "file = pd.read_csv('a_new_hope_testFile.csv',sep='|')\n",
    "df = pd.DataFrame(file)\n",
    "\n",
    "print(type(df['image_description'][4]))"
   ]
  },
  {
   "cell_type": "code",
   "execution_count": 51,
   "metadata": {
    "collapsed": false
   },
   "outputs": [
    {
     "data": {
      "text/plain": [
       "Index(['sub_id', 'img_link'], dtype='object')"
      ]
     },
     "execution_count": 51,
     "metadata": {},
     "output_type": "execute_result"
    }
   ],
   "source": [
    "df.columns"
   ]
  },
  {
   "cell_type": "code",
   "execution_count": 52,
   "metadata": {
    "collapsed": false
   },
   "outputs": [
    {
     "data": {
      "text/html": [
       "<div>\n",
       "<table border=\"1\" class=\"dataframe\">\n",
       "  <thead>\n",
       "    <tr style=\"text-align: right;\">\n",
       "      <th></th>\n",
       "      <th>sub_id</th>\n",
       "      <th>img_link</th>\n",
       "    </tr>\n",
       "  </thead>\n",
       "  <tbody>\n",
       "    <tr>\n",
       "      <th>0</th>\n",
       "      <td>5nkbyc</td>\n",
       "      <td>https://i.redd.it/78ckh6a43b9y.jpg</td>\n",
       "    </tr>\n",
       "    <tr>\n",
       "      <th>1</th>\n",
       "      <td>5dke49</td>\n",
       "      <td>http://imgur.com/wEpuWH2.jpg</td>\n",
       "    </tr>\n",
       "    <tr>\n",
       "      <th>2</th>\n",
       "      <td>5zs3sn</td>\n",
       "      <td>https://i.redd.it/8oiplkln5tly.jpg</td>\n",
       "    </tr>\n",
       "    <tr>\n",
       "      <th>3</th>\n",
       "      <td>4wh245</td>\n",
       "      <td>http://i.imgur.com/SU3JdYf.jpg</td>\n",
       "    </tr>\n",
       "    <tr>\n",
       "      <th>4</th>\n",
       "      <td>4u9btj</td>\n",
       "      <td>http://i.imgur.com/1gyXBZK.jpg</td>\n",
       "    </tr>\n",
       "  </tbody>\n",
       "</table>\n",
       "</div>"
      ],
      "text/plain": [
       "   sub_id                            img_link\n",
       "0  5nkbyc  https://i.redd.it/78ckh6a43b9y.jpg\n",
       "1  5dke49        http://imgur.com/wEpuWH2.jpg\n",
       "2  5zs3sn  https://i.redd.it/8oiplkln5tly.jpg\n",
       "3  4wh245      http://i.imgur.com/SU3JdYf.jpg\n",
       "4  4u9btj      http://i.imgur.com/1gyXBZK.jpg"
      ]
     },
     "execution_count": 52,
     "metadata": {},
     "output_type": "execute_result"
    }
   ],
   "source": [
    "df.head()"
   ]
  },
  {
   "cell_type": "code",
   "execution_count": 80,
   "metadata": {
    "collapsed": false,
    "scrolled": true
   },
   "outputs": [
    {
     "data": {
      "text/plain": [
       "nan"
      ]
     },
     "execution_count": 80,
     "metadata": {},
     "output_type": "execute_result"
    }
   ],
   "source": [
    "df['img_link'][15]"
   ]
  },
  {
   "cell_type": "code",
   "execution_count": 88,
   "metadata": {
    "collapsed": false
   },
   "outputs": [],
   "source": [
    "def strip(df):\n",
    "    csv = open('a_new_hope.csv', 'w')\n",
    "    try:\n",
    "        for i in range(0, len(df)):\n",
    "            time.sleep(1)\n",
    "            if(type(df['img_link'][i]) == str):\n",
    "                csv.write(df['sub_id'][i] + \"|\" + analyze_photo(df['img_link'][i]) + \"\\n\")\n",
    "            else:\n",
    "                csv.write(df['sub_id'][i] + \"|\\n\")\n",
    "    except Exception as e:\n",
    "        print(e)"
   ]
  },
  {
   "cell_type": "code",
   "execution_count": 144,
   "metadata": {
    "collapsed": false
   },
   "outputs": [],
   "source": [
    "def convert_all_to_dict(data_file):\n",
    "    # convert the file into a panda\n",
    "    csv = open(data_file, 'r+')\n",
    "    file = pd.read_csv(data_file, sep='|')\n",
    "    df = pd.DataFrame(file)\n",
    "    \n",
    "    for i in range(0, len(df)):\n",
    "        if(type(df['image_description'][i]) == str):\n",
    "            dict1 = ast.literal_eval(df['image_description'][i])\n",
    "            df['image_description'][i] = dict1\n",
    "            print(type(df['image_description'][i]), i)\n",
    "        else:\n",
    "            continue"
   ]
  },
  {
   "cell_type": "code",
   "execution_count": 145,
   "metadata": {
    "collapsed": false
   },
   "outputs": [
    {
     "name": "stdout",
     "output_type": "stream",
     "text": [
      "'image_description' 0\n"
     ]
    }
   ],
   "source": [
    "convert_all_to_dict('a_new_hope_testFile.csv')"
   ]
  },
  {
   "cell_type": "code",
   "execution_count": null,
   "metadata": {
    "collapsed": true
   },
   "outputs": [],
   "source": []
  }
 ],
 "metadata": {
  "kernelspec": {
   "display_name": "Python 3",
   "language": "python",
   "name": "python3"
  },
  "language_info": {
   "codemirror_mode": {
    "name": "ipython",
    "version": 3
   },
   "file_extension": ".py",
   "mimetype": "text/x-python",
   "name": "python",
   "nbconvert_exporter": "python",
   "pygments_lexer": "ipython3",
   "version": "3.6.0"
  }
 },
 "nbformat": 4,
 "nbformat_minor": 2
}
