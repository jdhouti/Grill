{
 "cells": [
  {
   "cell_type": "code",
   "execution_count": 3,
   "metadata": {
    "collapsed": true
   },
   "outputs": [],
   "source": [
    "import http.client, urllib.request, urllib.parse, urllib.error, base64\n",
    "import json, csv\n",
    "import codecs"
   ]
  },
  {
   "cell_type": "code",
   "execution_count": 19,
   "metadata": {
    "collapsed": false
   },
   "outputs": [],
   "source": [
    "#reader = codecs.getreader('utf-8')"
   ]
  },
  {
   "cell_type": "code",
   "execution_count": 31,
   "metadata": {
    "collapsed": false
   },
   "outputs": [],
   "source": [
    "headers = {\n",
    "    # Request headers. Replace the key below with your subscription key.\n",
    "    'Content-Type': 'application/json',\n",
    "    'Ocp-Apim-Subscription-Key':'fd0b9f206a584fc5b5353ba4fbed6451',\n",
    "}\n",
    "\n",
    "params = urllib.parse.urlencode({\n",
    "    # Request parameters. All of them are optional.\n",
    "    'visualFeatures':'Categories',\n",
    "    'details':'Celebrities',\n",
    "    'language':'en',\n",
    "})\n",
    "\n",
    "# the website you want to analyze the photo from.\n",
    "body = \"{'url':'http://schmoesknow.com/wp-content/uploads/2017/01/will-smith.jpg'}\""
   ]
  },
  {
   "cell_type": "code",
   "execution_count": 32,
   "metadata": {
    "collapsed": false
   },
   "outputs": [
    {
     "name": "stdout",
     "output_type": "stream",
     "text": [
      "b'{\"categories\":[{\"name\":\"people_portrait\",\"score\":0.8359375,\"detail\":{\"celebrities\":[{\"name\":\"WILL SMITH\",\"faceRectangle\":{\"left\":196,\"top\":90,\"width\":205,\"height\":205},\"confidence\":0.9983004}]}}],\"requestId\":\"a89d96b8-e822-4e84-9353-fb652e26bc6d\",\"metadata\":{\"width\":600,\"height\":337,\"format\":\"Jpeg\"}}'\n"
     ]
    }
   ],
   "source": [
    "try:\n",
    "    conn = http.client.HTTPSConnection('westus.api.cognitive.microsoft.com')   # this only returns bytes. \n",
    "    conn.request(\"POST\", \"/vision/v1.0/analyze?%s\" % params, body, headers)\n",
    "    response = conn.getresponse()\n",
    "    data = response.read()      # this is in bytes. we want this as a string.\n",
    "    print(data)\n",
    "    conn.close()\n",
    "except Exception as e:\n",
    "    print(\"[Errno {0}] {1}\".format(e.errno, e.strerror))\n",
    "else:       # we don't like json files, so we're converting this one to a .csv file.\n",
    "    work_with = json.loads(data.decode(\"utf-8\"))\n",
    "    work_data = work_with['categories']\n",
    "    write_data = open('load_me.csv', 'r+')\n",
    "    csvwriter = csv.writer(write_data)\n",
    "\n",
    "    count = 0\n",
    "\n",
    "    for emp in work_data:\n",
    "          if count == 0:\n",
    "              header = emp.keys()\n",
    "              csvwriter.writerow(header)\n",
    "              count += 1\n",
    "\n",
    "          csvwriter.writerow(emp.values())\n",
    "\n",
    "    write_data.close()"
   ]
  },
  {
   "cell_type": "code",
   "execution_count": null,
   "metadata": {
    "collapsed": true
   },
   "outputs": [],
   "source": []
  }
 ],
 "metadata": {
  "kernelspec": {
   "display_name": "Python 3",
   "language": "python",
   "name": "python3"
  },
  "language_info": {
   "codemirror_mode": {
    "name": "ipython",
    "version": 3
   },
   "file_extension": ".py",
   "mimetype": "text/x-python",
   "name": "python",
   "nbconvert_exporter": "python",
   "pygments_lexer": "ipython3",
   "version": "3.6.0"
  }
 },
 "nbformat": 4,
 "nbformat_minor": 2
}
