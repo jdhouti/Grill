{
 "cells": [
  {
   "cell_type": "code",
   "execution_count": 23,
   "metadata": {
    "collapsed": false
   },
   "outputs": [
    {
     "data": {
      "application/javascript": [
       "IPython.notebook.set_autosave_interval(10000)"
      ]
     },
     "metadata": {},
     "output_type": "display_data"
    },
    {
     "name": "stdout",
     "output_type": "stream",
     "text": [
      "Autosaving every 10 seconds\n"
     ]
    }
   ],
   "source": [
    "%autosave 10\n",
    "import urllib.request\n",
    "import pandas as pd"
   ]
  },
  {
   "cell_type": "code",
   "execution_count": 3,
   "metadata": {
    "collapsed": false
   },
   "outputs": [
    {
     "data": {
      "text/plain": [
       "('photos/xxbfa', <http.client.HTTPMessage at 0x2b8bfb27b70>)"
      ]
     },
     "execution_count": 3,
     "metadata": {},
     "output_type": "execute_result"
    }
   ],
   "source": [
    "sub_id = 'xxbfa'\n",
    "save_location = 'photos/' + sub_id  \n",
    "urllib.request.urlretrieve(\"https://i.reddituploads.com/ef49224ca22c4bcca85be80eae502188?fit=max&h=1536&w=1536&s=64003f767f725e724ad8646c1718e3ab\", save_location)"
   ]
  },
  {
   "cell_type": "code",
   "execution_count": 150,
   "metadata": {
    "collapsed": true
   },
   "outputs": [],
   "source": [
    "file = pd.read_csv('linkfile_modified.csv',delimiter='|')\n",
    "df = pd.DataFrame(file)"
   ]
  },
  {
   "cell_type": "code",
   "execution_count": 151,
   "metadata": {
    "collapsed": false
   },
   "outputs": [
    {
     "data": {
      "text/plain": [
       "Index(['sub_id', 'img_link'], dtype='object')"
      ]
     },
     "execution_count": 151,
     "metadata": {},
     "output_type": "execute_result"
    }
   ],
   "source": [
    "df.columns"
   ]
  },
  {
   "cell_type": "code",
   "execution_count": 184,
   "metadata": {
    "collapsed": true
   },
   "outputs": [],
   "source": [
    "from imgurpython import ImgurClient\n",
    "from imgurpython.client import ImgurClientError\n",
    "\n",
    "client_id = '8fd023373499a6d'\n",
    "client_secret = '8a98289a8b2edf1a654de6bfc846237450c643b2'\n",
    "\n",
    "client = ImgurClient(client_id, client_secret)"
   ]
  },
  {
   "cell_type": "code",
   "execution_count": 187,
   "metadata": {
    "collapsed": false
   },
   "outputs": [
    {
     "ename": "SyntaxError",
     "evalue": "invalid syntax (<ipython-input-187-540350f3fbdc>, line 18)",
     "output_type": "error",
     "traceback": [
      "\u001b[0;36m  File \u001b[0;32m\"<ipython-input-187-540350f3fbdc>\"\u001b[0;36m, line \u001b[0;32m18\u001b[0m\n\u001b[0;31m    except ImgurClientError as e, IndexError as a:\u001b[0m\n\u001b[0m                                ^\u001b[0m\n\u001b[0;31mSyntaxError\u001b[0m\u001b[0;31m:\u001b[0m invalid syntax\n"
     ]
    }
   ],
   "source": [
    "def directimgur(link):\n",
    "    try:\n",
    "        directlink = ''\n",
    "        #album_id = link.rsplit('/', 1)[1]\n",
    "        #images = client.get_album_images(album_id)\n",
    "        #directlink = 'http://i.imgur.com/' + images[0].id + '.jpg'\n",
    "        if '/a/' in link:\n",
    "            album_id = link.rsplit('/', 1)[1]\n",
    "            images = client.get_album_images(album_id)\n",
    "            directlink = 'http://i.imgur.com/' + images[0].id + '.jpg'\n",
    "        elif 'gallery' in link:\n",
    "            link = \"http://imgur.com/gallery/ZvysF\"\n",
    "            album_id = link.rsplit('/', 1)[1]\n",
    "            images = client.get_album_images(album_id)\n",
    "            directlink = 'http://i.imgur.com/' + images[0].id + '.jpg'\n",
    "        else:\n",
    "            directlink = link + '.jpg'\n",
    "    except ImgurClientError as e, IndexError as a:\n",
    "        print(e)\n",
    "        print(a)\n",
    "    \n",
    "    return directlink"
   ]
  },
  {
   "cell_type": "code",
   "execution_count": 188,
   "metadata": {
    "collapsed": false
   },
   "outputs": [
    {
     "name": "stdout",
     "output_type": "stream",
     "text": [
      "(404) Unable to find an album with the id, FwEkl.\n"
     ]
    },
    {
     "ename": "IndexError",
     "evalue": "list index out of range",
     "output_type": "error",
     "traceback": [
      "\u001b[0;31m---------------------------------------------------------------------------\u001b[0m",
      "\u001b[0;31mIndexError\u001b[0m                                Traceback (most recent call last)",
      "\u001b[0;32m<ipython-input-188-541b144d10a7>\u001b[0m in \u001b[0;36m<module>\u001b[0;34m()\u001b[0m\n\u001b[1;32m     10\u001b[0m         \u001b[1;31m#directimgur(df['img_link'][i])\u001b[0m\u001b[1;33m\u001b[0m\u001b[1;33m\u001b[0m\u001b[0m\n\u001b[1;32m     11\u001b[0m     \u001b[1;32melif\u001b[0m \u001b[1;34m'imgur'\u001b[0m \u001b[1;32min\u001b[0m \u001b[0mdf\u001b[0m\u001b[1;33m[\u001b[0m\u001b[1;34m'img_link'\u001b[0m\u001b[1;33m]\u001b[0m\u001b[1;33m[\u001b[0m\u001b[0mi\u001b[0m\u001b[1;33m]\u001b[0m\u001b[1;33m:\u001b[0m\u001b[1;33m\u001b[0m\u001b[0m\n\u001b[0;32m---> 12\u001b[0;31m         \u001b[0mdirectlink\u001b[0m \u001b[1;33m=\u001b[0m \u001b[0mdirectimgur\u001b[0m\u001b[1;33m(\u001b[0m\u001b[0mdf\u001b[0m\u001b[1;33m[\u001b[0m\u001b[1;34m'img_link'\u001b[0m\u001b[1;33m]\u001b[0m\u001b[1;33m[\u001b[0m\u001b[0mi\u001b[0m\u001b[1;33m]\u001b[0m\u001b[1;33m)\u001b[0m\u001b[1;33m\u001b[0m\u001b[0m\n\u001b[0m\u001b[1;32m     13\u001b[0m         \u001b[0mdirectlink_csv\u001b[0m\u001b[1;33m.\u001b[0m\u001b[0mwrite\u001b[0m\u001b[1;33m(\u001b[0m\u001b[0mdf\u001b[0m\u001b[1;33m[\u001b[0m\u001b[1;34m'sub_id'\u001b[0m\u001b[1;33m]\u001b[0m\u001b[1;33m[\u001b[0m\u001b[0mi\u001b[0m\u001b[1;33m]\u001b[0m \u001b[1;33m+\u001b[0m \u001b[1;34m'|'\u001b[0m \u001b[1;33m+\u001b[0m \u001b[0mdirectlink\u001b[0m \u001b[1;33m+\u001b[0m \u001b[1;34m'\\n'\u001b[0m\u001b[1;33m)\u001b[0m\u001b[1;33m\u001b[0m\u001b[0m\n\u001b[1;32m     14\u001b[0m     \u001b[1;32melse\u001b[0m\u001b[1;33m:\u001b[0m\u001b[1;33m\u001b[0m\u001b[0m\n",
      "\u001b[0;32m<ipython-input-185-29ed97ea4d2e>\u001b[0m in \u001b[0;36mdirectimgur\u001b[0;34m(link)\u001b[0m\n\u001b[1;32m      8\u001b[0m             \u001b[0malbum_id\u001b[0m \u001b[1;33m=\u001b[0m \u001b[0mlink\u001b[0m\u001b[1;33m.\u001b[0m\u001b[0mrsplit\u001b[0m\u001b[1;33m(\u001b[0m\u001b[1;34m'/'\u001b[0m\u001b[1;33m,\u001b[0m \u001b[1;36m1\u001b[0m\u001b[1;33m)\u001b[0m\u001b[1;33m[\u001b[0m\u001b[1;36m1\u001b[0m\u001b[1;33m]\u001b[0m\u001b[1;33m\u001b[0m\u001b[0m\n\u001b[1;32m      9\u001b[0m             \u001b[0mimages\u001b[0m \u001b[1;33m=\u001b[0m \u001b[0mclient\u001b[0m\u001b[1;33m.\u001b[0m\u001b[0mget_album_images\u001b[0m\u001b[1;33m(\u001b[0m\u001b[0malbum_id\u001b[0m\u001b[1;33m)\u001b[0m\u001b[1;33m\u001b[0m\u001b[0m\n\u001b[0;32m---> 10\u001b[0;31m             \u001b[0mdirectlink\u001b[0m \u001b[1;33m=\u001b[0m \u001b[1;34m'http://i.imgur.com/'\u001b[0m \u001b[1;33m+\u001b[0m \u001b[0mimages\u001b[0m\u001b[1;33m[\u001b[0m\u001b[1;36m0\u001b[0m\u001b[1;33m]\u001b[0m\u001b[1;33m.\u001b[0m\u001b[0mid\u001b[0m \u001b[1;33m+\u001b[0m \u001b[1;34m'.jpg'\u001b[0m\u001b[1;33m\u001b[0m\u001b[0m\n\u001b[0m\u001b[1;32m     11\u001b[0m         \u001b[1;32melif\u001b[0m \u001b[1;34m'gallery'\u001b[0m \u001b[1;32min\u001b[0m \u001b[0mlink\u001b[0m\u001b[1;33m:\u001b[0m\u001b[1;33m\u001b[0m\u001b[0m\n\u001b[1;32m     12\u001b[0m             \u001b[0mlink\u001b[0m \u001b[1;33m=\u001b[0m \u001b[1;34m\"http://imgur.com/gallery/ZvysF\"\u001b[0m\u001b[1;33m\u001b[0m\u001b[0m\n",
      "\u001b[0;31mIndexError\u001b[0m: list index out of range"
     ]
    }
   ],
   "source": [
    "directlink_csv = open('directlink.csv','w')\n",
    "for i in range(0,len(df['img_link'])):\n",
    "    if '.jpg' in df['img_link'][i]:\n",
    "        directlink_csv.write(df['sub_id'][i] + '|' + df['img_link'][i] + '\\n')\n",
    "    elif 'i.reddituploads' in df['img_link'][i]:\n",
    "        directlink_csv.write(df['sub_id'][i] + '|' + df['img_link'][i] + '\\n')\n",
    "    elif '.png' in df['img_link'][i]:\n",
    "        directlink_csv.write(df['sub_id'][i] + '|' + df['img_link'][i] + '\\n')\n",
    "    #elif '/a/' in df['img_link'][i]:\n",
    "        #directimgur(df['img_link'][i])\n",
    "    elif 'imgur' in df['img_link'][i]:\n",
    "        directlink = directimgur(df['img_link'][i])\n",
    "        directlink_csv.write(df['sub_id'][i] + '|' + directlink + '\\n')\n",
    "    else:\n",
    "        #print(link)\n",
    "        directlink_csv.write(df['sub_id'][i] + '|' + '' + '\\n')"
   ]
  },
  {
   "cell_type": "code",
   "execution_count": 125,
   "metadata": {
    "collapsed": false
   },
   "outputs": [
    {
     "name": "stdout",
     "output_type": "stream",
     "text": [
      "HI7ql\n"
     ]
    }
   ],
   "source": [
    "link = 'http://imgur.com/a/HI7ql'\n",
    "print(link.rsplit('/', 1)[1])"
   ]
  },
  {
   "cell_type": "code",
   "execution_count": null,
   "metadata": {
    "collapsed": true
   },
   "outputs": [],
   "source": []
  }
 ],
 "metadata": {
  "kernelspec": {
   "display_name": "Python 3",
   "language": "python",
   "name": "python3"
  },
  "language_info": {
   "codemirror_mode": {
    "name": "ipython",
    "version": 3
   },
   "file_extension": ".py",
   "mimetype": "text/x-python",
   "name": "python",
   "nbconvert_exporter": "python",
   "pygments_lexer": "ipython3",
   "version": "3.6.0"
  }
 },
 "nbformat": 4,
 "nbformat_minor": 2
}
